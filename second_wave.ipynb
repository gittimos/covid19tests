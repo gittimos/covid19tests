{
  "nbformat": 4,
  "nbformat_minor": 0,
  "metadata": {
    "colab": {
      "name": "second_wave.ipynb",
      "provenance": [],
      "collapsed_sections": [],
      "authorship_tag": "ABX9TyMXeXBD+utgKqiFriTHsim0",
      "include_colab_link": true
    },
    "kernelspec": {
      "name": "python3",
      "display_name": "Python 3"
    }
  },
  "cells": [
    {
      "cell_type": "markdown",
      "metadata": {
        "id": "view-in-github",
        "colab_type": "text"
      },
      "source": [
        "<a href=\"https://colab.research.google.com/github/gittimos/covid19tests/blob/master/second_wave.ipynb\" target=\"_parent\"><img src=\"https://colab.research.google.com/assets/colab-badge.svg\" alt=\"Open In Colab\"/></a>"
      ]
    },
    {
      "cell_type": "markdown",
      "metadata": {
        "id": "yMRdoJB4BLv0",
        "colab_type": "text"
      },
      "source": [
        "# Data\n",
        "\n",
        "## Cases\n",
        "\n",
        "See \"Daten zum Download\"\n",
        "https://www.rki.de/DE/Content/InfAZ/N/Neuartiges_Coronavirus/nCoV_node.html\n",
        "\n",
        "Dashboard-Daten\n",
        "\n",
        "## Tests\n",
        "\n",
        "### RKI\n",
        "\n",
        "#### up to week 31\n",
        "p .31\n",
        "https://www.rki.de/DE/Content/InfAZ/N/Neuartiges_Coronavirus/Testzahl.html[link text](https://) \n",
        "\n",
        "#### up to week 33\n",
        "p. 12\n",
        "https://www.rki.de/DE/Content/InfAZ/N/Neuartiges_Coronavirus/Situationsberichte/2020-08-19-de.pdf?__blob=publicationFile\n",
        "\n",
        "### weekly reports\n",
        "\n",
        "https://ars.rki.de/Content/COVID19/Main.aspx\n",
        "\n",
        "### Ourworldindata\n",
        "\n",
        "https://ourworldindata.org/coronavirus-testing\n",
        "\n",
        "Read this: https://covid.ourworldindata.org/data/owid-covid-data.csv\n",
        "\n",
        "### Statista\n",
        "\n",
        "https://de.statista.com/statistik/daten/studie/1107749/umfrage/labortest-fuer-das-coronavirus-covid-19-in-deutschland/\n",
        "\n",
        "### CSSE\n",
        "\n",
        "https://github.com/CSSEGISandData/COVID-19"
      ]
    },
    {
      "cell_type": "code",
      "metadata": {
        "id": "wHX2OGaVLaru",
        "colab_type": "code",
        "colab": {}
      },
      "source": [
        "import pandas as pd\n",
        "import numpy as np"
      ],
      "execution_count": 2,
      "outputs": []
    },
    {
      "cell_type": "markdown",
      "metadata": {
        "id": "2Uetp1c0NchG",
        "colab_type": "text"
      },
      "source": [
        "## Case data from RKI"
      ]
    },
    {
      "cell_type": "code",
      "metadata": {
        "id": "7QdgH8M1Na-F",
        "colab_type": "code",
        "colab": {}
      },
      "source": [
        "# Load data from RKI\n",
        "url = 'https://opendata.arcgis.com/datasets/dd4580c810204019a7b8eb3e0b329dd6_0.csv'\n",
        "rki_data = pd.read_csv(url)"
      ],
      "execution_count": 3,
      "outputs": []
    },
    {
      "cell_type": "code",
      "metadata": {
        "id": "9Oca9DVkT5Yb",
        "colab_type": "code",
        "colab": {
          "base_uri": "https://localhost:8080/",
          "height": 102
        },
        "outputId": "0b09ced8-b1ec-4dea-f49d-aeba273dd838"
      },
      "source": [
        "rki_data.columns"
      ],
      "execution_count": 4,
      "outputs": [
        {
          "output_type": "execute_result",
          "data": {
            "text/plain": [
              "Index(['ObjectId', 'IdBundesland', 'Bundesland', 'Landkreis', 'Altersgruppe',\n",
              "       'Geschlecht', 'AnzahlFall', 'AnzahlTodesfall', 'Meldedatum',\n",
              "       'IdLandkreis', 'Datenstand', 'NeuerFall', 'NeuerTodesfall', 'Refdatum',\n",
              "       'NeuGenesen', 'AnzahlGenesen', 'IstErkrankungsbeginn', 'Altersgruppe2'],\n",
              "      dtype='object')"
            ]
          },
          "metadata": {
            "tags": []
          },
          "execution_count": 4
        }
      ]
    },
    {
      "cell_type": "code",
      "metadata": {
        "id": "AsUaWR1cPgIe",
        "colab_type": "code",
        "colab": {}
      },
      "source": [
        "rki_date = 'Refdatum' # Refdatum or Meldedatum\n",
        "rki_data_ger = rki_data[[rki_date,'AnzahlFall']].groupby([rki_date]).sum()\n",
        "# rki_data_ger_df.head()"
      ],
      "execution_count": 5,
      "outputs": []
    },
    {
      "cell_type": "code",
      "metadata": {
        "id": "APs3R6rH76C0",
        "colab_type": "code",
        "colab": {}
      },
      "source": [
        "rki_data_ger['week'] = pd.to_datetime(rki_data_ger.index.to_series()).dt.week\n",
        "# rki_data_ger_df.head()"
      ],
      "execution_count": 6,
      "outputs": []
    },
    {
      "cell_type": "code",
      "metadata": {
        "id": "0VGhZ7Z8AUnl",
        "colab_type": "code",
        "colab": {}
      },
      "source": [
        "rki_data_ger_week = rki_data_ger.groupby(['week']).sum()\n",
        "rki_data_ger_cum_week = rki_data_ger_week.cumsum()\n",
        "#rki_data_ger_cum_week.head()"
      ],
      "execution_count": 8,
      "outputs": []
    },
    {
      "cell_type": "code",
      "metadata": {
        "id": "TVUUn2cQQYm3",
        "colab_type": "code",
        "colab": {
          "base_uri": "https://localhost:8080/",
          "height": 564
        },
        "outputId": "d764683c-a1b9-4fc4-b86f-8bd6bff3a344"
      },
      "source": [
        "rki_data_ger_week.plot.bar()\n",
        "rki_data_ger_cum_week.plot.bar()"
      ],
      "execution_count": 10,
      "outputs": [
        {
          "output_type": "execute_result",
          "data": {
            "text/plain": [
              "<matplotlib.axes._subplots.AxesSubplot at 0x7fb37df9fe10>"
            ]
          },
          "metadata": {
            "tags": []
          },
          "execution_count": 10
        },
        {
          "output_type": "display_data",
          "data": {
            "image/png": "[encoded data removed]",
            "text/plain": [
              "<Figure size 432x288 with 1 Axes>"
            ]
          },
          "metadata": {
            "tags": [],
            "needs_background": "light"
          }
        },
        {
          "output_type": "display_data",
          "data": {
            "image/png": "[encoded data removed]",
            "text/plain": [
              "<Figure size 432x288 with 1 Axes>"
            ]
          },
          "metadata": {
            "tags": [],
            "needs_background": "light"
          }
        }
      ]
    },
    {
      "cell_type": "markdown",
      "metadata": {
        "id": "G1u-bbWNINbr",
        "colab_type": "text"
      },
      "source": [
        "## Tests"
      ]
    },
    {
      "cell_type": "markdown",
      "metadata": {
        "id": "pLOymIRGLkJv",
        "colab_type": "text"
      },
      "source": [
        "Loading tests conducted per week based on data published in \"Täglicher Lagebericht des RKI\n",
        "zur Coronavirus-Krankheit-2019\n",
        "(COVID-19)\""
      ]
    },
    {
      "cell_type": "code",
      "metadata": {
        "id": "bgPUR0M4Iz-W",
        "colab_type": "code",
        "colab": {
          "base_uri": "https://localhost:8080/",
          "height": 824
        },
        "outputId": "1836e357-04ad-4030-95f4-70afc7436ecd"
      },
      "source": [
        "# store data on Github or Google Drive\n",
        "# load test data\n",
        "url = 'https://raw.githubusercontent.com/gittimos/covid19tests/master/RKI_test_data_week33.csv'\n",
        "rki_test_data = pd.read_csv(url)\n",
        "rki_test_data"
      ],
      "execution_count": 23,
      "outputs": [
        {
          "output_type": "execute_result",
          "data": {
            "text/html": [
              "<div>\n",
              "<style scoped>\n",
              "    .dataframe tbody tr th:only-of-type {\n",
              "        vertical-align: middle;\n",
              "    }\n",
              "\n",
              "    .dataframe tbody tr th {\n",
              "        vertical-align: top;\n",
              "    }\n",
              "\n",
              "    .dataframe thead th {\n",
              "        text-align: right;\n",
              "    }\n",
              "</style>\n",
              "<table border=\"1\" class=\"dataframe\">\n",
              "  <thead>\n",
              "    <tr style=\"text-align: right;\">\n",
              "      <th></th>\n",
              "      <th>KW 2020</th>\n",
              "      <th>Anzahl Testungen</th>\n",
              "      <th>Positiv getestet</th>\n",
              "      <th>Positivenrate (%)</th>\n",
              "      <th>Anzahl übermittelnde Labore</th>\n",
              "    </tr>\n",
              "  </thead>\n",
              "  <tbody>\n",
              "    <tr>\n",
              "      <th>0</th>\n",
              "      <td>Bis KW 10</td>\n",
              "      <td>124716</td>\n",
              "      <td>3892</td>\n",
              "      <td>3.12</td>\n",
              "      <td>90.0</td>\n",
              "    </tr>\n",
              "    <tr>\n",
              "      <th>1</th>\n",
              "      <td>11</td>\n",
              "      <td>127457</td>\n",
              "      <td>7582</td>\n",
              "      <td>5.95</td>\n",
              "      <td>114.0</td>\n",
              "    </tr>\n",
              "    <tr>\n",
              "      <th>2</th>\n",
              "      <td>12</td>\n",
              "      <td>348619</td>\n",
              "      <td>23820</td>\n",
              "      <td>6.83</td>\n",
              "      <td>152.0</td>\n",
              "    </tr>\n",
              "    <tr>\n",
              "      <th>3</th>\n",
              "      <td>13</td>\n",
              "      <td>361515</td>\n",
              "      <td>31414</td>\n",
              "      <td>8.69</td>\n",
              "      <td>151.0</td>\n",
              "    </tr>\n",
              "    <tr>\n",
              "      <th>4</th>\n",
              "      <td>14</td>\n",
              "      <td>408348</td>\n",
              "      <td>36885</td>\n",
              "      <td>9.03</td>\n",
              "      <td>154.0</td>\n",
              "    </tr>\n",
              "    <tr>\n",
              "      <th>5</th>\n",
              "      <td>15</td>\n",
              "      <td>380197</td>\n",
              "      <td>30791</td>\n",
              "      <td>8.10</td>\n",
              "      <td>164.0</td>\n",
              "    </tr>\n",
              "    <tr>\n",
              "      <th>6</th>\n",
              "      <td>16</td>\n",
              "      <td>331902</td>\n",
              "      <td>22082</td>\n",
              "      <td>6.65</td>\n",
              "      <td>168.0</td>\n",
              "    </tr>\n",
              "    <tr>\n",
              "      <th>7</th>\n",
              "      <td>17</td>\n",
              "      <td>363890</td>\n",
              "      <td>18083</td>\n",
              "      <td>4.97</td>\n",
              "      <td>178.0</td>\n",
              "    </tr>\n",
              "    <tr>\n",
              "      <th>8</th>\n",
              "      <td>18</td>\n",
              "      <td>326788</td>\n",
              "      <td>12608</td>\n",
              "      <td>3.86</td>\n",
              "      <td>175.0</td>\n",
              "    </tr>\n",
              "    <tr>\n",
              "      <th>9</th>\n",
              "      <td>19</td>\n",
              "      <td>403875</td>\n",
              "      <td>10755</td>\n",
              "      <td>2.66</td>\n",
              "      <td>182.0</td>\n",
              "    </tr>\n",
              "    <tr>\n",
              "      <th>10</th>\n",
              "      <td>20</td>\n",
              "      <td>432666</td>\n",
              "      <td>7233</td>\n",
              "      <td>1.67</td>\n",
              "      <td>183.0</td>\n",
              "    </tr>\n",
              "    <tr>\n",
              "      <th>11</th>\n",
              "      <td>21</td>\n",
              "      <td>353467</td>\n",
              "      <td>5218</td>\n",
              "      <td>1.48</td>\n",
              "      <td>179.0</td>\n",
              "    </tr>\n",
              "    <tr>\n",
              "      <th>12</th>\n",
              "      <td>22</td>\n",
              "      <td>405269</td>\n",
              "      <td>4310</td>\n",
              "      <td>1.06</td>\n",
              "      <td>178.0</td>\n",
              "    </tr>\n",
              "    <tr>\n",
              "      <th>13</th>\n",
              "      <td>23</td>\n",
              "      <td>340986</td>\n",
              "      <td>3208</td>\n",
              "      <td>0.94</td>\n",
              "      <td>176.0</td>\n",
              "    </tr>\n",
              "    <tr>\n",
              "      <th>14</th>\n",
              "      <td>24</td>\n",
              "      <td>326645</td>\n",
              "      <td>2816</td>\n",
              "      <td>0.86</td>\n",
              "      <td>172.0</td>\n",
              "    </tr>\n",
              "    <tr>\n",
              "      <th>15</th>\n",
              "      <td>25</td>\n",
              "      <td>387484</td>\n",
              "      <td>5309</td>\n",
              "      <td>1.37</td>\n",
              "      <td>175.0</td>\n",
              "    </tr>\n",
              "    <tr>\n",
              "      <th>16</th>\n",
              "      <td>26</td>\n",
              "      <td>466459</td>\n",
              "      <td>3670</td>\n",
              "      <td>0.79</td>\n",
              "      <td>179.0</td>\n",
              "    </tr>\n",
              "    <tr>\n",
              "      <th>17</th>\n",
              "      <td>27</td>\n",
              "      <td>504082</td>\n",
              "      <td>3080</td>\n",
              "      <td>0.61</td>\n",
              "      <td>149.0</td>\n",
              "    </tr>\n",
              "    <tr>\n",
              "      <th>18</th>\n",
              "      <td>28</td>\n",
              "      <td>510103</td>\n",
              "      <td>2990</td>\n",
              "      <td>0.59</td>\n",
              "      <td>178.0</td>\n",
              "    </tr>\n",
              "    <tr>\n",
              "      <th>19</th>\n",
              "      <td>29</td>\n",
              "      <td>538229</td>\n",
              "      <td>3483</td>\n",
              "      <td>0.65</td>\n",
              "      <td>176.0</td>\n",
              "    </tr>\n",
              "    <tr>\n",
              "      <th>20</th>\n",
              "      <td>30</td>\n",
              "      <td>570746</td>\n",
              "      <td>4464</td>\n",
              "      <td>0.78</td>\n",
              "      <td>180.0</td>\n",
              "    </tr>\n",
              "    <tr>\n",
              "      <th>21</th>\n",
              "      <td>31</td>\n",
              "      <td>578099</td>\n",
              "      <td>5634</td>\n",
              "      <td>0.97</td>\n",
              "      <td>165.0</td>\n",
              "    </tr>\n",
              "    <tr>\n",
              "      <th>22</th>\n",
              "      <td>32</td>\n",
              "      <td>730300</td>\n",
              "      <td>7256</td>\n",
              "      <td>0.99</td>\n",
              "      <td>165.0</td>\n",
              "    </tr>\n",
              "    <tr>\n",
              "      <th>23</th>\n",
              "      <td>33</td>\n",
              "      <td>875524</td>\n",
              "      <td>8407</td>\n",
              "      <td>0.96</td>\n",
              "      <td>181.0</td>\n",
              "    </tr>\n",
              "    <tr>\n",
              "      <th>24</th>\n",
              "      <td>Summe</td>\n",
              "      <td>10197366</td>\n",
              "      <td>264990</td>\n",
              "      <td>NaN</td>\n",
              "      <td>NaN</td>\n",
              "    </tr>\n",
              "  </tbody>\n",
              "</table>\n",
              "</div>"
            ],
            "text/plain": [
              "      KW 2020  Anzahl Testungen  ...  Positivenrate (%)  Anzahl übermittelnde Labore\n",
              "0   Bis KW 10            124716  ...               3.12                         90.0\n",
              "1          11            127457  ...               5.95                        114.0\n",
              "2          12            348619  ...               6.83                        152.0\n",
              "3          13            361515  ...               8.69                        151.0\n",
              "4          14            408348  ...               9.03                        154.0\n",
              "5          15            380197  ...               8.10                        164.0\n",
              "6          16            331902  ...               6.65                        168.0\n",
              "7          17            363890  ...               4.97                        178.0\n",
              "8          18            326788  ...               3.86                        175.0\n",
              "9          19            403875  ...               2.66                        182.0\n",
              "10         20            432666  ...               1.67                        183.0\n",
              "11         21            353467  ...               1.48                        179.0\n",
              "12         22            405269  ...               1.06                        178.0\n",
              "13         23            340986  ...               0.94                        176.0\n",
              "14         24            326645  ...               0.86                        172.0\n",
              "15         25            387484  ...               1.37                        175.0\n",
              "16         26            466459  ...               0.79                        179.0\n",
              "17         27            504082  ...               0.61                        149.0\n",
              "18         28            510103  ...               0.59                        178.0\n",
              "19         29            538229  ...               0.65                        176.0\n",
              "20         30            570746  ...               0.78                        180.0\n",
              "21         31            578099  ...               0.97                        165.0\n",
              "22         32            730300  ...               0.99                        165.0\n",
              "23         33            875524  ...               0.96                        181.0\n",
              "24      Summe          10197366  ...                NaN                          NaN\n",
              "\n",
              "[25 rows x 5 columns]"
            ]
          },
          "metadata": {
            "tags": []
          },
          "execution_count": 23
        }
      ]
    },
    {
      "cell_type": "code",
      "metadata": {
        "id": "atE6b-L8JLOF",
        "colab_type": "code",
        "colab": {}
      },
      "source": [
        "# from google.colab import drive\n",
        "# drive.mount('/content/drive')"
      ],
      "execution_count": null,
      "outputs": []
    },
    {
      "cell_type": "markdown",
      "metadata": {
        "id": "pZkw0OToL9rK",
        "colab_type": "text"
      },
      "source": [
        "## Case numbers per test case\n"
      ]
    },
    {
      "cell_type": "markdown",
      "metadata": {
        "id": "GFdAXTxfNI2m",
        "colab_type": "text"
      },
      "source": [
        "Dividing the case numbers shows the dynamics of infection (\"Positivenrate\")."
      ]
    },
    {
      "cell_type": "markdown",
      "metadata": {
        "id": "1sbqbHWMN1W0",
        "colab_type": "text"
      },
      "source": [
        "Für den Zeitraum 09.08. – 15.08.2020 wurden uns von den teilnehmenden Zentren insgesamt 79.392\n",
        "Teste berichtet, davon waren 1.236 positiv (1,56%). Hiervon erfolgten 43.810 Testungen an den\n",
        "genannten Flughäfen, davon waren 478 positiv (1,09%). An den drei Autobahnraststätten wurden\n",
        "32.011 Personen getestet, hier waren 709 Personen positiv (2,21%). An den zwei Bahnhöfen wurden\n",
        "3.571 Testungen durchgeführt, davon waren 49 positiv (1,37%).\n",
        "\n",
        "https://www.rki.de/DE/Content/InfAZ/N/Neuartiges_Coronavirus/Situationsberichte/2020-08-19-de.pdf?__blob=publicationFile (p. 12)"
      ]
    },
    {
      "cell_type": "markdown",
      "metadata": {
        "id": "NbpVkRYEQf1Q",
        "colab_type": "text"
      },
      "source": [
        "Die laborbasierte SARS-CoV-2-Surveillance beruht auf der freiwilligen Teilnahme von Laboren, die diese Diagnostik durchführen. Es handelt sich damit um Daten aus einer Stichprobe von Laboren, nicht um eine Vollerhebung aller Testungen in Deutschland. Die freiwillige Teilnahme an der laborbasierten SARS-CoV-2-Surveillance ersetzt nicht die Meldepflicht nach IfSG.\n",
        "\n",
        "https://ars.rki.de/Content/COVID19/Main.aspx"
      ]
    },
    {
      "cell_type": "markdown",
      "metadata": {
        "id": "JHAZROwgHgzY",
        "colab_type": "text"
      },
      "source": [
        "## Decline and rise"
      ]
    },
    {
      "cell_type": "code",
      "metadata": {
        "id": "hfBAnzBFGkAG",
        "colab_type": "code",
        "colab": {
          "base_uri": "https://localhost:8080/",
          "height": 564
        },
        "outputId": "174f3523-43c1-4037-80e8-be6a244c0299"
      },
      "source": [
        "# compare development\n",
        "rki_data_ger_week_1 = rki_data_ger_week_df.loc[:24,:]\n",
        "rki_data_ger_week_2 = rki_data_ger_week_df.loc[26:,:]\n",
        "rki_data_ger_week_2\n",
        "rki_data_ger_week_1 = rki_data_ger_week_1.iloc[::-1]\n",
        "\n",
        "rki_data_ger_week_1.iloc[:8].plot.bar()\n",
        "rki_data_ger_week_2.iloc[:8].plot.bar()"
      ],
      "execution_count": 88,
      "outputs": [
        {
          "output_type": "execute_result",
          "data": {
            "text/plain": [
              "<matplotlib.axes._subplots.AxesSubplot at 0x7f1471908d68>"
            ]
          },
          "metadata": {
            "tags": []
          },
          "execution_count": 88
        },
        {
          "output_type": "display_data",
          "data": {
            "image/png": "[encoded data removed]",
            "text/plain": [
              "<Figure size 432x288 with 1 Axes>"
            ]
          },
          "metadata": {
            "tags": [],
            "needs_background": "light"
          }
        },
        {
          "output_type": "display_data",
          "data": {
            "image/png": "[encoded data removed]",
            "text/plain": [
              "<Figure size 432x288 with 1 Axes>"
            ]
          },
          "metadata": {
            "tags": [],
            "needs_background": "light"
          }
        }
      ]
    },
    {
      "cell_type": "markdown",
      "metadata": {
        "id": "v-YhE1_PPjgP",
        "colab_type": "text"
      },
      "source": [
        "## Data from Ourworldindata\n"
      ]
    },
    {
      "cell_type": "code",
      "metadata": {
        "id": "3dNDcEn-BK5C",
        "colab_type": "code",
        "colab": {}
      },
      "source": [
        "# Load data from Ourworldindata\n",
        "#url = 'https://covid.ourworldindata.org/data/owid-covid-data.csv'\n",
        "url = 'https://covid.ourworldindata.org/data/owid-covid-data.csv'\n",
        "test_data_df = pd.read_csv(url)"
      ],
      "execution_count": 17,
      "outputs": []
    },
    {
      "cell_type": "code",
      "metadata": {
        "id": "Ti5ShK65U8eb",
        "colab_type": "code",
        "colab": {
          "base_uri": "https://localhost:8080/",
          "height": 272
        },
        "outputId": "ad87418e-85f0-4a72-8cab-83ce1b1d2c35"
      },
      "source": [
        "test_data_df.columns"
      ],
      "execution_count": 18,
      "outputs": [
        {
          "output_type": "execute_result",
          "data": {
            "text/plain": [
              "Index(['iso_code', 'continent', 'location', 'date', 'total_cases', 'new_cases',\n",
              "       'new_cases_smoothed', 'total_deaths', 'new_deaths',\n",
              "       'new_deaths_smoothed', 'total_cases_per_million',\n",
              "       'new_cases_per_million', 'new_cases_smoothed_per_million',\n",
              "       'total_deaths_per_million', 'new_deaths_per_million',\n",
              "       'new_deaths_smoothed_per_million', 'new_tests', 'total_tests',\n",
              "       'total_tests_per_thousand', 'new_tests_per_thousand',\n",
              "       'new_tests_smoothed', 'new_tests_smoothed_per_thousand',\n",
              "       'tests_per_case', 'positive_rate', 'tests_units', 'stringency_index',\n",
              "       'population', 'population_density', 'median_age', 'aged_65_older',\n",
              "       'aged_70_older', 'gdp_per_capita', 'extreme_poverty',\n",
              "       'cardiovasc_death_rate', 'diabetes_prevalence', 'female_smokers',\n",
              "       'male_smokers', 'handwashing_facilities', 'hospital_beds_per_thousand',\n",
              "       'life_expectancy'],\n",
              "      dtype='object')"
            ]
          },
          "metadata": {
            "tags": []
          },
          "execution_count": 18
        }
      ]
    },
    {
      "cell_type": "code",
      "metadata": {
        "id": "OB0NbTShLYzP",
        "colab_type": "code",
        "colab": {}
      },
      "source": [
        "test_data_df \n",
        "test_data_df_ger = test_data_df.loc[test_data_df[\"location\"] == \"Germany\"]"
      ],
      "execution_count": 19,
      "outputs": []
    },
    {
      "cell_type": "code",
      "metadata": {
        "id": "U5lDik_CVVmc",
        "colab_type": "code",
        "colab": {
          "base_uri": "https://localhost:8080/",
          "height": 419
        },
        "outputId": "ac070866-0723-419c-ce65-18aec6225077"
      },
      "source": [
        "test_data_df_ger[['new_tests_per_thousand']]"
      ],
      "execution_count": 20,
      "outputs": [
        {
          "output_type": "execute_result",
          "data": {
            "text/html": [
              "<div>\n",
              "<style scoped>\n",
              "    .dataframe tbody tr th:only-of-type {\n",
              "        vertical-align: middle;\n",
              "    }\n",
              "\n",
              "    .dataframe tbody tr th {\n",
              "        vertical-align: top;\n",
              "    }\n",
              "\n",
              "    .dataframe thead th {\n",
              "        text-align: right;\n",
              "    }\n",
              "</style>\n",
              "<table border=\"1\" class=\"dataframe\">\n",
              "  <thead>\n",
              "    <tr style=\"text-align: right;\">\n",
              "      <th></th>\n",
              "      <th>new_tests_per_thousand</th>\n",
              "    </tr>\n",
              "  </thead>\n",
              "  <tbody>\n",
              "    <tr>\n",
              "      <th>8951</th>\n",
              "      <td>NaN</td>\n",
              "    </tr>\n",
              "    <tr>\n",
              "      <th>8952</th>\n",
              "      <td>NaN</td>\n",
              "    </tr>\n",
              "    <tr>\n",
              "      <th>8953</th>\n",
              "      <td>NaN</td>\n",
              "    </tr>\n",
              "    <tr>\n",
              "      <th>8954</th>\n",
              "      <td>NaN</td>\n",
              "    </tr>\n",
              "    <tr>\n",
              "      <th>8955</th>\n",
              "      <td>NaN</td>\n",
              "    </tr>\n",
              "    <tr>\n",
              "      <th>...</th>\n",
              "      <td>...</td>\n",
              "    </tr>\n",
              "    <tr>\n",
              "      <th>9180</th>\n",
              "      <td>NaN</td>\n",
              "    </tr>\n",
              "    <tr>\n",
              "      <th>9181</th>\n",
              "      <td>NaN</td>\n",
              "    </tr>\n",
              "    <tr>\n",
              "      <th>9182</th>\n",
              "      <td>NaN</td>\n",
              "    </tr>\n",
              "    <tr>\n",
              "      <th>9183</th>\n",
              "      <td>NaN</td>\n",
              "    </tr>\n",
              "    <tr>\n",
              "      <th>9184</th>\n",
              "      <td>NaN</td>\n",
              "    </tr>\n",
              "  </tbody>\n",
              "</table>\n",
              "<p>234 rows × 1 columns</p>\n",
              "</div>"
            ],
            "text/plain": [
              "      new_tests_per_thousand\n",
              "8951                     NaN\n",
              "8952                     NaN\n",
              "8953                     NaN\n",
              "8954                     NaN\n",
              "8955                     NaN\n",
              "...                      ...\n",
              "9180                     NaN\n",
              "9181                     NaN\n",
              "9182                     NaN\n",
              "9183                     NaN\n",
              "9184                     NaN\n",
              "\n",
              "[234 rows x 1 columns]"
            ]
          },
          "metadata": {
            "tags": []
          },
          "execution_count": 20
        }
      ]
    },
    {
      "cell_type": "code",
      "metadata": {
        "id": "imcjyqzmMGQJ",
        "colab_type": "code",
        "colab": {
          "base_uri": "https://localhost:8080/",
          "height": 419
        },
        "outputId": "0744a3d1-1fcc-4710-9269-3995fb1858cc"
      },
      "source": [
        "test_data_df_ger[['date','new_cases','total_cases']]"
      ],
      "execution_count": 49,
      "outputs": [
        {
          "output_type": "execute_result",
          "data": {
            "text/html": [
              "<div>\n",
              "<style scoped>\n",
              "    .dataframe tbody tr th:only-of-type {\n",
              "        vertical-align: middle;\n",
              "    }\n",
              "\n",
              "    .dataframe tbody tr th {\n",
              "        vertical-align: top;\n",
              "    }\n",
              "\n",
              "    .dataframe thead th {\n",
              "        text-align: right;\n",
              "    }\n",
              "</style>\n",
              "<table border=\"1\" class=\"dataframe\">\n",
              "  <thead>\n",
              "    <tr style=\"text-align: right;\">\n",
              "      <th></th>\n",
              "      <th>date</th>\n",
              "      <th>new_cases</th>\n",
              "      <th>total_cases</th>\n",
              "    </tr>\n",
              "  </thead>\n",
              "  <tbody>\n",
              "    <tr>\n",
              "      <th>8951</th>\n",
              "      <td>2019-12-31</td>\n",
              "      <td>0.0</td>\n",
              "      <td>0.0</td>\n",
              "    </tr>\n",
              "    <tr>\n",
              "      <th>8952</th>\n",
              "      <td>2020-01-01</td>\n",
              "      <td>0.0</td>\n",
              "      <td>0.0</td>\n",
              "    </tr>\n",
              "    <tr>\n",
              "      <th>8953</th>\n",
              "      <td>2020-01-02</td>\n",
              "      <td>0.0</td>\n",
              "      <td>0.0</td>\n",
              "    </tr>\n",
              "    <tr>\n",
              "      <th>8954</th>\n",
              "      <td>2020-01-03</td>\n",
              "      <td>0.0</td>\n",
              "      <td>0.0</td>\n",
              "    </tr>\n",
              "    <tr>\n",
              "      <th>8955</th>\n",
              "      <td>2020-01-04</td>\n",
              "      <td>0.0</td>\n",
              "      <td>0.0</td>\n",
              "    </tr>\n",
              "    <tr>\n",
              "      <th>...</th>\n",
              "      <td>...</td>\n",
              "      <td>...</td>\n",
              "      <td>...</td>\n",
              "    </tr>\n",
              "    <tr>\n",
              "      <th>9180</th>\n",
              "      <td>2020-08-16</td>\n",
              "      <td>718.0</td>\n",
              "      <td>224233.0</td>\n",
              "    </tr>\n",
              "    <tr>\n",
              "      <th>9181</th>\n",
              "      <td>2020-08-17</td>\n",
              "      <td>481.0</td>\n",
              "      <td>224714.0</td>\n",
              "    </tr>\n",
              "    <tr>\n",
              "      <th>9182</th>\n",
              "      <td>2020-08-18</td>\n",
              "      <td>1431.0</td>\n",
              "      <td>226145.0</td>\n",
              "    </tr>\n",
              "    <tr>\n",
              "      <th>9183</th>\n",
              "      <td>2020-08-19</td>\n",
              "      <td>769.0</td>\n",
              "      <td>226914.0</td>\n",
              "    </tr>\n",
              "    <tr>\n",
              "      <th>9184</th>\n",
              "      <td>2020-08-20</td>\n",
              "      <td>1707.0</td>\n",
              "      <td>228621.0</td>\n",
              "    </tr>\n",
              "  </tbody>\n",
              "</table>\n",
              "<p>234 rows × 3 columns</p>\n",
              "</div>"
            ],
            "text/plain": [
              "            date  new_cases  total_cases\n",
              "8951  2019-12-31        0.0          0.0\n",
              "8952  2020-01-01        0.0          0.0\n",
              "8953  2020-01-02        0.0          0.0\n",
              "8954  2020-01-03        0.0          0.0\n",
              "8955  2020-01-04        0.0          0.0\n",
              "...          ...        ...          ...\n",
              "9180  2020-08-16      718.0     224233.0\n",
              "9181  2020-08-17      481.0     224714.0\n",
              "9182  2020-08-18     1431.0     226145.0\n",
              "9183  2020-08-19      769.0     226914.0\n",
              "9184  2020-08-20     1707.0     228621.0\n",
              "\n",
              "[234 rows x 3 columns]"
            ]
          },
          "metadata": {
            "tags": []
          },
          "execution_count": 49
        }
      ]
    },
    {
      "cell_type": "code",
      "metadata": {
        "id": "P_GH-qqTMj7s",
        "colab_type": "code",
        "colab": {
          "base_uri": "https://localhost:8080/",
          "height": 296
        },
        "outputId": "34dcaf58-db74-4c01-a95c-b72bb2fef75c"
      },
      "source": [
        "test_data_df_ger.plot(x = 'date', y = 'new_cases')\n"
      ],
      "execution_count": 48,
      "outputs": [
        {
          "output_type": "execute_result",
          "data": {
            "text/plain": [
              "<matplotlib.axes._subplots.AxesSubplot at 0x7f367e8b1c18>"
            ]
          },
          "metadata": {
            "tags": []
          },
          "execution_count": 48
        },
        {
          "output_type": "display_data",
          "data": {
            "image/png": "[encoded data removed]",
            "text/plain": [
              "<Figure size 432x288 with 1 Axes>"
            ]
          },
          "metadata": {
            "tags": [],
            "needs_background": "light"
          }
        }
      ]
    },
    {
      "cell_type": "code",
      "metadata": {
        "id": "YEEtJzzpM5xm",
        "colab_type": "code",
        "colab": {}
      },
      "source": [
        ""
      ],
      "execution_count": null,
      "outputs": []
    }
  ]
}